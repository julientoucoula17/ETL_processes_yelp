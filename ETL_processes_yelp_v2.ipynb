{
 "cells": [
  {
   "cell_type": "code",
   "execution_count": 1,
   "metadata": {
    "id": "PPsmYxwVBIAV"
   },
   "outputs": [
    {
     "name": "stdout",
     "output_type": "stream",
     "text": [
      "Collecting scrapy\n",
      "  Using cached Scrapy-2.6.1-py2.py3-none-any.whl (264 kB)\n",
      "Collecting psycopg2-binary\n",
      "  Using cached psycopg2_binary-2.9.3-cp39-cp39-manylinux_2_17_x86_64.manylinux2014_x86_64.whl (3.0 MB)\n",
      "Collecting protego>=0.1.15\n",
      "  Using cached Protego-0.2.1-py2.py3-none-any.whl (8.2 kB)\n",
      "Requirement already satisfied: setuptools in /opt/conda/lib/python3.9/site-packages (from scrapy) (59.8.0)\n",
      "Collecting parsel>=1.5.0\n",
      "  Using cached parsel-1.6.0-py2.py3-none-any.whl (13 kB)\n",
      "Collecting cssselect>=0.9.1\n",
      "  Using cached cssselect-1.1.0-py2.py3-none-any.whl (16 kB)\n",
      "Collecting queuelib>=1.4.2\n",
      "  Using cached queuelib-1.6.2-py2.py3-none-any.whl (13 kB)\n",
      "Collecting zope.interface>=4.1.3\n",
      "  Using cached zope.interface-5.4.0-cp39-cp39-manylinux2010_x86_64.whl (255 kB)\n",
      "Collecting PyDispatcher>=2.0.5\n",
      "  Using cached PyDispatcher-2.0.5-py3-none-any.whl\n",
      "Collecting service-identity>=16.0.0\n",
      "  Using cached service_identity-21.1.0-py2.py3-none-any.whl (12 kB)\n",
      "Collecting itemadapter>=0.1.0\n",
      "  Using cached itemadapter-0.5.0-py3-none-any.whl (10 kB)\n",
      "Collecting tldextract\n",
      "  Using cached tldextract-3.2.1-py3-none-any.whl (87 kB)\n",
      "Collecting itemloaders>=1.0.1\n",
      "  Using cached itemloaders-1.0.4-py3-none-any.whl (11 kB)\n",
      "Collecting w3lib>=1.17.0\n",
      "  Using cached w3lib-1.22.0-py2.py3-none-any.whl (20 kB)\n",
      "Requirement already satisfied: cryptography>=2.0 in /opt/conda/lib/python3.9/site-packages (from scrapy) (36.0.1)\n",
      "Collecting Twisted>=17.9.0\n",
      "  Using cached Twisted-22.4.0-py3-none-any.whl (3.1 MB)\n",
      "Collecting lxml>=3.5.0\n",
      "  Using cached lxml-4.8.0-cp39-cp39-manylinux_2_17_x86_64.manylinux2014_x86_64.manylinux_2_24_x86_64.whl (6.9 MB)\n",
      "Requirement already satisfied: pyOpenSSL>=16.2.0 in /opt/conda/lib/python3.9/site-packages (from scrapy) (22.0.0)\n",
      "Requirement already satisfied: cffi>=1.12 in /opt/conda/lib/python3.9/site-packages (from cryptography>=2.0->scrapy) (1.15.0)\n",
      "Collecting jmespath>=0.9.5\n",
      "  Using cached jmespath-1.0.0-py3-none-any.whl (23 kB)\n",
      "Requirement already satisfied: six>=1.6.0 in /opt/conda/lib/python3.9/site-packages (from parsel>=1.5.0->scrapy) (1.16.0)\n",
      "Requirement already satisfied: attrs>=19.1.0 in /opt/conda/lib/python3.9/site-packages (from service-identity>=16.0.0->scrapy) (21.4.0)\n",
      "Collecting pyasn1\n",
      "  Using cached pyasn1-0.4.8-py2.py3-none-any.whl (77 kB)\n",
      "Collecting pyasn1-modules\n",
      "  Using cached pyasn1_modules-0.2.8-py2.py3-none-any.whl (155 kB)\n",
      "Collecting Automat>=0.8.0\n",
      "  Using cached Automat-20.2.0-py2.py3-none-any.whl (31 kB)\n",
      "Collecting hyperlink>=17.1.1\n",
      "  Using cached hyperlink-21.0.0-py2.py3-none-any.whl (74 kB)\n",
      "Collecting constantly>=15.1\n",
      "  Using cached constantly-15.1.0-py2.py3-none-any.whl (7.9 kB)\n",
      "Collecting incremental>=21.3.0\n",
      "  Using cached incremental-21.3.0-py2.py3-none-any.whl (15 kB)\n",
      "Requirement already satisfied: typing-extensions>=3.6.5 in /opt/conda/lib/python3.9/site-packages (from Twisted>=17.9.0->scrapy) (4.0.1)\n",
      "Requirement already satisfied: requests>=2.1.0 in /opt/conda/lib/python3.9/site-packages (from tldextract->scrapy) (2.27.1)\n",
      "Collecting requests-file>=1.4\n",
      "  Using cached requests_file-1.5.1-py2.py3-none-any.whl (3.7 kB)\n",
      "Requirement already satisfied: idna in /opt/conda/lib/python3.9/site-packages (from tldextract->scrapy) (3.3)\n",
      "Collecting filelock>=3.0.8\n",
      "  Using cached filelock-3.6.0-py3-none-any.whl (10.0 kB)\n",
      "Requirement already satisfied: pycparser in /opt/conda/lib/python3.9/site-packages (from cffi>=1.12->cryptography>=2.0->scrapy) (2.21)\n",
      "Requirement already satisfied: charset-normalizer~=2.0.0 in /opt/conda/lib/python3.9/site-packages (from requests>=2.1.0->tldextract->scrapy) (2.0.10)\n",
      "Requirement already satisfied: urllib3<1.27,>=1.21.1 in /opt/conda/lib/python3.9/site-packages (from requests>=2.1.0->tldextract->scrapy) (1.26.8)\n",
      "Requirement already satisfied: certifi>=2017.4.17 in /opt/conda/lib/python3.9/site-packages (from requests>=2.1.0->tldextract->scrapy) (2021.10.8)\n",
      "Installing collected packages: w3lib, pyasn1, lxml, cssselect, zope.interface, requests-file, pyasn1-modules, parsel, jmespath, itemadapter, incremental, hyperlink, filelock, constantly, Automat, Twisted, tldextract, service-identity, queuelib, PyDispatcher, protego, itemloaders, scrapy, psycopg2-binary\n",
      "Successfully installed Automat-20.2.0 PyDispatcher-2.0.5 Twisted-22.4.0 constantly-15.1.0 cssselect-1.1.0 filelock-3.6.0 hyperlink-21.0.0 incremental-21.3.0 itemadapter-0.5.0 itemloaders-1.0.4 jmespath-1.0.0 lxml-4.8.0 parsel-1.6.0 protego-0.2.1 psycopg2-binary-2.9.3 pyasn1-0.4.8 pyasn1-modules-0.2.8 queuelib-1.6.2 requests-file-1.5.1 scrapy-2.6.1 service-identity-21.1.0 tldextract-3.2.1 w3lib-1.22.0 zope.interface-5.4.0\n",
      "Note: you may need to restart the kernel to use updated packages.\n"
     ]
    }
   ],
   "source": [
    "pip install scrapy psycopg2-binary"
   ]
  },
  {
   "cell_type": "code",
   "execution_count": 2,
   "metadata": {
    "id": "kqRu3majBIAa"
   },
   "outputs": [
    {
     "name": "stdout",
     "output_type": "stream",
     "text": [
      "Please enter your search keywords :  restaurant japonais\n",
      "Please enter the name of the city :  marseille\n"
     ]
    }
   ],
   "source": [
    "# Import libraries\n",
    "import os\n",
    "import logging\n",
    "import scrapy\n",
    "from scrapy.crawler import CrawlerProcess\n",
    "from sqlalchemy import create_engine\n",
    "import json\n",
    "import pandas as pd\n",
    "import glob\n",
    "\n",
    "def formatting_for_url(string):\n",
    "    return string.replace(\" \", \"+\")\n",
    "\n",
    "search_keywords = formatting_for_url(input(\"Please enter your search keywords : \"))\n",
    "search_location = formatting_for_url(input(\"Please enter the name of the city : \"))"
   ]
  },
  {
   "cell_type": "code",
   "execution_count": 3,
   "metadata": {
    "id": "crQ26jkyBIAb"
   },
   "outputs": [
    {
     "name": "stderr",
     "output_type": "stream",
     "text": [
      "2022-04-18 11:33:32 [scrapy.utils.log] INFO: Scrapy 2.6.1 started (bot: scrapybot)\n",
      "2022-04-18 11:33:32 [scrapy.utils.log] INFO: Versions: lxml 4.8.0.0, libxml2 2.9.12, cssselect 1.1.0, parsel 1.6.0, w3lib 1.22.0, Twisted 22.4.0, Python 3.9.7 | packaged by conda-forge | (default, Sep 29 2021, 19:20:46) - [GCC 9.4.0], pyOpenSSL 22.0.0 (OpenSSL 1.1.1l  24 Aug 2021), cryptography 36.0.1, Platform Linux-5.4.170+-x86_64-with-glibc2.31\n",
      "2022-04-18 11:33:32 [scrapy.crawler] INFO: Overridden settings:\n",
      "{'LOG_LEVEL': 20,\n",
      " 'USER_AGENT': 'Mozilla/4.0 (compatible; MSIE 7.0; Windows NT 5.1)'}\n",
      "2022-04-18 11:33:32 [scrapy.extensions.telnet] INFO: Telnet Password: 1b6789140629c4e1\n",
      "2022-04-18 11:33:32 [scrapy.middleware] INFO: Enabled extensions:\n",
      "['scrapy.extensions.corestats.CoreStats',\n",
      " 'scrapy.extensions.telnet.TelnetConsole',\n",
      " 'scrapy.extensions.memusage.MemoryUsage',\n",
      " 'scrapy.extensions.feedexport.FeedExporter',\n",
      " 'scrapy.extensions.logstats.LogStats']\n",
      "2022-04-18 11:33:32 [scrapy.middleware] INFO: Enabled downloader middlewares:\n",
      "['scrapy.downloadermiddlewares.httpauth.HttpAuthMiddleware',\n",
      " 'scrapy.downloadermiddlewares.downloadtimeout.DownloadTimeoutMiddleware',\n",
      " 'scrapy.downloadermiddlewares.defaultheaders.DefaultHeadersMiddleware',\n",
      " 'scrapy.downloadermiddlewares.useragent.UserAgentMiddleware',\n",
      " 'scrapy.downloadermiddlewares.retry.RetryMiddleware',\n",
      " 'scrapy.downloadermiddlewares.redirect.MetaRefreshMiddleware',\n",
      " 'scrapy.downloadermiddlewares.httpcompression.HttpCompressionMiddleware',\n",
      " 'scrapy.downloadermiddlewares.redirect.RedirectMiddleware',\n",
      " 'scrapy.downloadermiddlewares.cookies.CookiesMiddleware',\n",
      " 'scrapy.downloadermiddlewares.httpproxy.HttpProxyMiddleware',\n",
      " 'scrapy.downloadermiddlewares.stats.DownloaderStats']\n",
      "2022-04-18 11:33:32 [scrapy.middleware] INFO: Enabled spider middlewares:\n",
      "['scrapy.spidermiddlewares.httperror.HttpErrorMiddleware',\n",
      " 'scrapy.spidermiddlewares.offsite.OffsiteMiddleware',\n",
      " 'scrapy.spidermiddlewares.referer.RefererMiddleware',\n",
      " 'scrapy.spidermiddlewares.urllength.UrlLengthMiddleware',\n",
      " 'scrapy.spidermiddlewares.depth.DepthMiddleware']\n",
      "2022-04-18 11:33:32 [scrapy.middleware] INFO: Enabled item pipelines:\n",
      "[]\n",
      "2022-04-18 11:33:32 [scrapy.core.engine] INFO: Spider opened\n",
      "2022-04-18 11:33:33 [scrapy.extensions.logstats] INFO: Crawled 0 pages (at 0 pages/min), scraped 0 items (at 0 items/min)\n",
      "2022-04-18 11:33:33 [scrapy.extensions.telnet] INFO: Telnet console listening on 127.0.0.1:6023\n",
      "2022-04-18 11:33:50 [root] INFO: No next page. Terminating crawling process.\n",
      "2022-04-18 11:33:50 [scrapy.core.engine] INFO: Closing spider (finished)\n",
      "2022-04-18 11:33:50 [scrapy.extensions.feedexport] INFO: Stored json feed (83 items) in: results/restaurant+japonais-marseille.json\n",
      "2022-04-18 11:33:50 [scrapy.statscollectors] INFO: Dumping Scrapy stats:\n",
      "{'downloader/request_bytes': 4299,\n",
      " 'downloader/request_count': 9,\n",
      " 'downloader/request_method_count/GET': 9,\n",
      " 'downloader/response_bytes': 470308,\n",
      " 'downloader/response_count': 9,\n",
      " 'downloader/response_status_count/200': 9,\n",
      " 'elapsed_time_seconds': 16.909146,\n",
      " 'feedexport/success_count/FileFeedStorage': 1,\n",
      " 'finish_reason': 'finished',\n",
      " 'finish_time': datetime.datetime(2022, 4, 18, 11, 33, 50, 154250),\n",
      " 'httpcompression/response_bytes': 2877476,\n",
      " 'httpcompression/response_count': 9,\n",
      " 'item_scraped_count': 83,\n",
      " 'log_count/INFO': 12,\n",
      " 'memusage/max': 139522048,\n",
      " 'memusage/startup': 139522048,\n",
      " 'request_depth_max': 8,\n",
      " 'response_received_count': 9,\n",
      " 'scheduler/dequeued': 9,\n",
      " 'scheduler/dequeued/memory': 9,\n",
      " 'scheduler/enqueued': 9,\n",
      " 'scheduler/enqueued/memory': 9,\n",
      " 'start_time': datetime.datetime(2022, 4, 18, 11, 33, 33, 245104)}\n",
      "2022-04-18 11:33:50 [scrapy.core.engine] INFO: Spider closed (finished)\n"
     ]
    },
    {
     "name": "stdout",
     "output_type": "stream",
     "text": [
      "2022-04-18 11:33:51,040 INFO sqlalchemy.engine.Engine select pg_catalog.version()\n"
     ]
    },
    {
     "name": "stderr",
     "output_type": "stream",
     "text": [
      "2022-04-18 11:33:51 [sqlalchemy.engine.Engine] INFO: select pg_catalog.version()\n"
     ]
    },
    {
     "name": "stdout",
     "output_type": "stream",
     "text": [
      "2022-04-18 11:33:51,042 INFO sqlalchemy.engine.Engine [raw sql] {}\n"
     ]
    },
    {
     "name": "stderr",
     "output_type": "stream",
     "text": [
      "2022-04-18 11:33:51 [sqlalchemy.engine.Engine] INFO: [raw sql] {}\n"
     ]
    },
    {
     "name": "stdout",
     "output_type": "stream",
     "text": [
      "2022-04-18 11:33:51,208 INFO sqlalchemy.engine.Engine select current_schema()\n"
     ]
    },
    {
     "name": "stderr",
     "output_type": "stream",
     "text": [
      "2022-04-18 11:33:51 [sqlalchemy.engine.Engine] INFO: select current_schema()\n"
     ]
    },
    {
     "name": "stdout",
     "output_type": "stream",
     "text": [
      "2022-04-18 11:33:51,212 INFO sqlalchemy.engine.Engine [raw sql] {}\n"
     ]
    },
    {
     "name": "stderr",
     "output_type": "stream",
     "text": [
      "2022-04-18 11:33:51 [sqlalchemy.engine.Engine] INFO: [raw sql] {}\n"
     ]
    },
    {
     "name": "stdout",
     "output_type": "stream",
     "text": [
      "2022-04-18 11:33:51,379 INFO sqlalchemy.engine.Engine show standard_conforming_strings\n"
     ]
    },
    {
     "name": "stderr",
     "output_type": "stream",
     "text": [
      "2022-04-18 11:33:51 [sqlalchemy.engine.Engine] INFO: show standard_conforming_strings\n"
     ]
    },
    {
     "name": "stdout",
     "output_type": "stream",
     "text": [
      "2022-04-18 11:33:51,381 INFO sqlalchemy.engine.Engine [raw sql] {}\n"
     ]
    },
    {
     "name": "stderr",
     "output_type": "stream",
     "text": [
      "2022-04-18 11:33:51 [sqlalchemy.engine.Engine] INFO: [raw sql] {}\n"
     ]
    },
    {
     "name": "stdout",
     "output_type": "stream",
     "text": [
      "2022-04-18 11:33:51,549 INFO sqlalchemy.engine.Engine select relname from pg_class c join pg_namespace n on n.oid=c.relnamespace where pg_catalog.pg_table_is_visible(c.oid) and relname=%(name)s\n"
     ]
    },
    {
     "name": "stderr",
     "output_type": "stream",
     "text": [
      "2022-04-18 11:33:51 [sqlalchemy.engine.Engine] INFO: select relname from pg_class c join pg_namespace n on n.oid=c.relnamespace where pg_catalog.pg_table_is_visible(c.oid) and relname=%(name)s\n"
     ]
    },
    {
     "name": "stdout",
     "output_type": "stream",
     "text": [
      "2022-04-18 11:33:51,552 INFO sqlalchemy.engine.Engine [generated in 0.00247s] {'name': 'restaurant'}\n"
     ]
    },
    {
     "name": "stderr",
     "output_type": "stream",
     "text": [
      "2022-04-18 11:33:51 [sqlalchemy.engine.Engine] INFO: [generated in 0.00247s] {'name': 'restaurant'}\n"
     ]
    },
    {
     "name": "stdout",
     "output_type": "stream",
     "text": [
      "2022-04-18 11:33:51,800 INFO sqlalchemy.engine.Engine BEGIN (implicit)\n"
     ]
    },
    {
     "name": "stderr",
     "output_type": "stream",
     "text": [
      "2022-04-18 11:33:51 [sqlalchemy.engine.Engine] INFO: BEGIN (implicit)\n"
     ]
    },
    {
     "name": "stdout",
     "output_type": "stream",
     "text": [
      "2022-04-18 11:33:51,804 INFO sqlalchemy.engine.Engine \n",
      "CREATE TABLE restaurant (\n",
      "\tindex BIGINT, \n",
      "\tsearch_keywords TEXT, \n",
      "\tsearch_location TEXT, \n",
      "\tcompany TEXT\n",
      ")\n",
      "\n",
      "\n"
     ]
    },
    {
     "name": "stderr",
     "output_type": "stream",
     "text": [
      "2022-04-18 11:33:51 [sqlalchemy.engine.Engine] INFO: \n",
      "CREATE TABLE restaurant (\n",
      "\tindex BIGINT, \n",
      "\tsearch_keywords TEXT, \n",
      "\tsearch_location TEXT, \n",
      "\tcompany TEXT\n",
      ")\n",
      "\n",
      "\n"
     ]
    },
    {
     "name": "stdout",
     "output_type": "stream",
     "text": [
      "2022-04-18 11:33:51,806 INFO sqlalchemy.engine.Engine [no key 0.00180s] {}\n"
     ]
    },
    {
     "name": "stderr",
     "output_type": "stream",
     "text": [
      "2022-04-18 11:33:51 [sqlalchemy.engine.Engine] INFO: [no key 0.00180s] {}\n"
     ]
    },
    {
     "name": "stdout",
     "output_type": "stream",
     "text": [
      "2022-04-18 11:33:51,998 INFO sqlalchemy.engine.Engine CREATE INDEX ix_restaurant_index ON restaurant (index)\n"
     ]
    },
    {
     "name": "stderr",
     "output_type": "stream",
     "text": [
      "2022-04-18 11:33:51 [sqlalchemy.engine.Engine] INFO: CREATE INDEX ix_restaurant_index ON restaurant (index)\n"
     ]
    },
    {
     "name": "stdout",
     "output_type": "stream",
     "text": [
      "2022-04-18 11:33:52,000 INFO sqlalchemy.engine.Engine [no key 0.00241s] {}\n"
     ]
    },
    {
     "name": "stderr",
     "output_type": "stream",
     "text": [
      "2022-04-18 11:33:52 [sqlalchemy.engine.Engine] INFO: [no key 0.00241s] {}\n"
     ]
    },
    {
     "name": "stdout",
     "output_type": "stream",
     "text": [
      "2022-04-18 11:33:52,088 INFO sqlalchemy.engine.Engine COMMIT\n"
     ]
    },
    {
     "name": "stderr",
     "output_type": "stream",
     "text": [
      "2022-04-18 11:33:52 [sqlalchemy.engine.Engine] INFO: COMMIT\n"
     ]
    },
    {
     "name": "stdout",
     "output_type": "stream",
     "text": [
      "2022-04-18 11:33:52,176 INFO sqlalchemy.engine.Engine BEGIN (implicit)\n"
     ]
    },
    {
     "name": "stderr",
     "output_type": "stream",
     "text": [
      "2022-04-18 11:33:52 [sqlalchemy.engine.Engine] INFO: BEGIN (implicit)\n"
     ]
    },
    {
     "name": "stdout",
     "output_type": "stream",
     "text": [
      "2022-04-18 11:33:52,182 INFO sqlalchemy.engine.Engine INSERT INTO restaurant (index, search_keywords, search_location, company) VALUES (%(index)s, %(search_keywords)s, %(search_location)s, %(company)s)\n"
     ]
    },
    {
     "name": "stderr",
     "output_type": "stream",
     "text": [
      "2022-04-18 11:33:52 [sqlalchemy.engine.Engine] INFO: INSERT INTO restaurant (index, search_keywords, search_location, company) VALUES (%(index)s, %(search_keywords)s, %(search_location)s, %(company)s)\n"
     ]
    },
    {
     "name": "stdout",
     "output_type": "stream",
     "text": [
      "2022-04-18 11:33:52,184 INFO sqlalchemy.engine.Engine [generated in 0.00392s] ({'index': 0, 'search_keywords': 'restaurant+japonais', 'search_location': 'lille', 'company': ['Izumi']}, {'index': 1, 'search_keywords': 'restaurant+japonais', 'search_location': 'lille', 'company': ['Moshi Moshi']}, {'index': 2, 'search_keywords': 'restaurant+japonais', 'search_location': 'lille', 'company': ['Kisoro']}, {'index': 3, 'search_keywords': 'restaurant+japonais', 'search_location': 'lille', 'company': ['Jomon Negishi']}, {'index': 4, 'search_keywords': 'restaurant+japonais', 'search_location': 'lille', 'company': ['Akira']}, {'index': 5, 'search_keywords': 'restaurant+japonais', 'search_location': 'lille', 'company': ['Sakura']}, {'index': 6, 'search_keywords': 'restaurant+japonais', 'search_location': 'lille', 'company': ['Le Shuriken']}, {'index': 7, 'search_keywords': 'restaurant+japonais', 'search_location': 'lille', 'company': ['Sushi Wafu']}  ... displaying 10 of 563 total bound parameter sets ...  {'index': 86, 'search_keywords': 'restaurant+japonais', 'search_location': 'bordeaux', 'company': ['Sushi Maison Jasmin']}, {'index': 87, 'search_keywords': 'restaurant+japonais', 'search_location': 'bordeaux', 'company': ['Plateau Sushi']})\n"
     ]
    },
    {
     "name": "stderr",
     "output_type": "stream",
     "text": [
      "2022-04-18 11:33:52 [sqlalchemy.engine.Engine] INFO: [generated in 0.00392s] ({'index': 0, 'search_keywords': 'restaurant+japonais', 'search_location': 'lille', 'company': ['Izumi']}, {'index': 1, 'search_keywords': 'restaurant+japonais', 'search_location': 'lille', 'company': ['Moshi Moshi']}, {'index': 2, 'search_keywords': 'restaurant+japonais', 'search_location': 'lille', 'company': ['Kisoro']}, {'index': 3, 'search_keywords': 'restaurant+japonais', 'search_location': 'lille', 'company': ['Jomon Negishi']}, {'index': 4, 'search_keywords': 'restaurant+japonais', 'search_location': 'lille', 'company': ['Akira']}, {'index': 5, 'search_keywords': 'restaurant+japonais', 'search_location': 'lille', 'company': ['Sakura']}, {'index': 6, 'search_keywords': 'restaurant+japonais', 'search_location': 'lille', 'company': ['Le Shuriken']}, {'index': 7, 'search_keywords': 'restaurant+japonais', 'search_location': 'lille', 'company': ['Sushi Wafu']}  ... displaying 10 of 563 total bound parameter sets ...  {'index': 86, 'search_keywords': 'restaurant+japonais', 'search_location': 'bordeaux', 'company': ['Sushi Maison Jasmin']}, {'index': 87, 'search_keywords': 'restaurant+japonais', 'search_location': 'bordeaux', 'company': ['Plateau Sushi']})\n"
     ]
    },
    {
     "name": "stdout",
     "output_type": "stream",
     "text": [
      "2022-04-18 11:33:52,453 INFO sqlalchemy.engine.Engine COMMIT\n"
     ]
    },
    {
     "name": "stderr",
     "output_type": "stream",
     "text": [
      "2022-04-18 11:33:52 [sqlalchemy.engine.Engine] INFO: COMMIT\n"
     ]
    },
    {
     "data": {
      "text/plain": [
       "563"
      ]
     },
     "execution_count": 3,
     "metadata": {},
     "output_type": "execute_result"
    }
   ],
   "source": [
    "################### Extract ################### \n",
    "class YelpSpider(scrapy.Spider):\n",
    "\n",
    "    # Name of your spider\n",
    "    name = \"yelp\"\n",
    "\n",
    "    # Url to start your spider from \n",
    "    start_urls = [\n",
    "        'https://www.yelp.fr/search?find_desc={}&find_loc={}'.format(search_keywords,search_location),\n",
    "    ]\n",
    "\n",
    "    def parse(self, response):\n",
    "        \n",
    "        paragraphs = response.css('a.css-1m051bw')\n",
    "        #page_number = response.css(' li > div > div > span.css-chan6m::text').getall()[0].split()[2]\n",
    "        \n",
    "        for p in paragraphs[3:]: \n",
    "            yield {\n",
    "                 'search_keywords' : search_keywords,\n",
    "                'search_location' : search_location,\n",
    "                'company': p.css('::text').getall()\n",
    "            }\n",
    "        \n",
    "        try:\n",
    "            # Select the NEXT button and store it in next_page\n",
    "            next_page = response.css('a.next-link').attrib[\"href\"]\n",
    "        except KeyError:\n",
    "            # In the last page, there won't be any \"href\" and a KeyError will be raised\n",
    "            logging.info('No next page. Terminating crawling process.')\n",
    "        else:\n",
    "            # If a next page is found, execute the parse method once again\n",
    "            yield response.follow(next_page, callback=self.parse)\n",
    "            \n",
    "# Result file\n",
    "filename = \"{}-{}.json\".format(search_keywords,search_location)\n",
    "\n",
    "# Declare a new CrawlerProcess \n",
    "process = CrawlerProcess(settings = {\n",
    "    'USER_AGENT': 'Mozilla/4.0 (compatible; MSIE 7.0; Windows NT 5.1)',\n",
    "    'LOG_LEVEL': logging.INFO,\n",
    "    \"FEEDS\": {\n",
    "        'results/' + filename : {\"format\": \"json\"},\n",
    "    }\n",
    "})\n",
    "\n",
    "# Start the crawling using the spider you defined above\n",
    "process.crawl(YelpSpider)\n",
    "process.start()\n",
    "\n",
    "\n",
    "################### Transform json files to Dataframe ###################\n",
    "init_df = pd.DataFrame()\n",
    "for file in glob.glob(\"results/*.json\"):\n",
    "    df = pd.read_json(file)\n",
    "    init_df = pd.concat([init_df,df])\n",
    "\n",
    "    \n",
    "################### Load to Posgresql Server ###################\n",
    "\n",
    "HOSTNAME = \"your_hostname\"\n",
    "USERNAME = \"your_username\"\n",
    "PASSWORD = \"your_password\"\n",
    "DBNAME = \"your_dbname\"\n",
    "PORT = \"5432\"\n",
    "\n",
    "engine = create_engine(\"postgresql+psycopg2://{}:{}@{}/{}\".format(USERNAME,PASSWORD,HOSTNAME,DBNAME), echo=True)\n",
    "# Save in a table named restaurant\n",
    "init_df.to_sql(\"restaurant\", engine)"
   ]
  }
 ],
 "metadata": {
  "colab": {
   "name": "correction_scraping_wikipedia (2).ipynb",
   "provenance": []
  },
  "kernelspec": {
   "display_name": "Python 3 (ipykernel)",
   "language": "python",
   "name": "python3"
  },
  "language_info": {
   "codemirror_mode": {
    "name": "ipython",
    "version": 3
   },
   "file_extension": ".py",
   "mimetype": "text/x-python",
   "name": "python",
   "nbconvert_exporter": "python",
   "pygments_lexer": "ipython3",
   "version": "3.9.7"
  }
 },
 "nbformat": 4,
 "nbformat_minor": 4
}
